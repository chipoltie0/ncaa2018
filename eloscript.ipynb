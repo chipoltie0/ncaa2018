{
 "cells": [
  {
   "cell_type": "markdown",
   "metadata": {
    "_uuid": "b46415d4d3dcf049a7f9a1f869291f8c2aa2b525"
   },
   "source": [
    "# Elo ratings based on regular-season games"
   ]
  },
  {
   "cell_type": "markdown",
   "metadata": {
    "_uuid": "28c5d9184d65541595d7329417b021cc9892a41c"
   },
   "source": [
    "This notebook implements Elo ratings for NCAA regular-season games using the same formula as FiveThirtyEight's NBA Elo ratings. My resources for this were:\n",
    "\n",
    "- https://en.wikipedia.org/wiki/Elo_rating_system\n",
    "- https://fivethirtyeight.com/features/how-we-calculate-nba-elo-ratings/\n",
    "- https://github.com/fivethirtyeight/nfl-elo-game/blob/master/forecast.py\n",
    "\n",
    "(The last link above is for 538's NFL Elos (not NBA), but it was useful for a code example of the approach. )\n",
    "\n",
    "The idea here is to get another feature to be plugged in (alongside seeds, etc.) when predicting tournament games."
   ]
  },
  {
   "cell_type": "code",
   "execution_count": 1,
   "metadata": {
    "_cell_guid": "b1076dfc-b9ad-4769-8c92-a6c4dae69d19",
    "_uuid": "8f2839f25d086af736a60e9eeb907d3b93b6e0e5",
    "collapsed": true
   },
   "outputs": [],
   "source": [
    "import numpy as np\n",
    "import pandas as pd\n",
    "from sklearn.metrics import log_loss"
   ]
  },
  {
   "cell_type": "markdown",
   "metadata": {
    "_uuid": "1e215f446afbbbf18d8af991e0f07986e079b4a5"
   },
   "source": [
    "The following parameter `K` affects how quickly the Elo adjusts to new information. Here I'm just using the value that 538 found most appropriate for the NBA -- I haven't done any analysis around whether this value is also the best in terms of college basketball.\n",
    "\n",
    "I also use the same home-court advantage as 538: the host team gets an extra 100 points added to their Elo."
   ]
  },
  {
   "cell_type": "code",
   "execution_count": 2,
   "metadata": {
    "_uuid": "7aeb42a1c9a5dc50fc46ad05d8af448a8af40b05",
    "collapsed": true
   },
   "outputs": [],
   "source": [
    "K = 20.\n",
    "HOME_ADVANTAGE = 100."
   ]
  },
  {
   "cell_type": "markdown",
   "metadata": {
    "_uuid": "5a7c0ec5b1c1b6dc84a7f3813a085c52e232aac6"
   },
   "source": []
  },
  {
   "cell_type": "code",
   "execution_count": 3,
   "metadata": {
    "_uuid": "33573642af9b9d5fe45e9f6ddbec57f363576c69"
   },
   "outputs": [
    {
     "data": {
      "text/html": [
       "<div>\n",
       "<style>\n",
       "    .dataframe thead tr:only-child th {\n",
       "        text-align: right;\n",
       "    }\n",
       "\n",
       "    .dataframe thead th {\n",
       "        text-align: left;\n",
       "    }\n",
       "\n",
       "    .dataframe tbody tr th {\n",
       "        vertical-align: top;\n",
       "    }\n",
       "</style>\n",
       "<table border=\"1\" class=\"dataframe\">\n",
       "  <thead>\n",
       "    <tr style=\"text-align: right;\">\n",
       "      <th></th>\n",
       "      <th>Season</th>\n",
       "      <th>DayNum</th>\n",
       "      <th>WTeamID</th>\n",
       "      <th>WScore</th>\n",
       "      <th>LTeamID</th>\n",
       "      <th>LScore</th>\n",
       "      <th>WLoc</th>\n",
       "      <th>NumOT</th>\n",
       "      <th>WFGM</th>\n",
       "      <th>WFGA</th>\n",
       "      <th>...</th>\n",
       "      <th>LFGA3</th>\n",
       "      <th>LFTM</th>\n",
       "      <th>LFTA</th>\n",
       "      <th>LOR</th>\n",
       "      <th>LDR</th>\n",
       "      <th>LAst</th>\n",
       "      <th>LTO</th>\n",
       "      <th>LStl</th>\n",
       "      <th>LBlk</th>\n",
       "      <th>LPF</th>\n",
       "    </tr>\n",
       "  </thead>\n",
       "  <tbody>\n",
       "    <tr>\n",
       "      <th>0</th>\n",
       "      <td>2018</td>\n",
       "      <td>11</td>\n",
       "      <td>1104</td>\n",
       "      <td>82</td>\n",
       "      <td>1272</td>\n",
       "      <td>70</td>\n",
       "      <td>N</td>\n",
       "      <td>0</td>\n",
       "      <td>26</td>\n",
       "      <td>57</td>\n",
       "      <td>...</td>\n",
       "      <td>17</td>\n",
       "      <td>22</td>\n",
       "      <td>36</td>\n",
       "      <td>15</td>\n",
       "      <td>22</td>\n",
       "      <td>7</td>\n",
       "      <td>17</td>\n",
       "      <td>7</td>\n",
       "      <td>3</td>\n",
       "      <td>22</td>\n",
       "    </tr>\n",
       "    <tr>\n",
       "      <th>1</th>\n",
       "      <td>2018</td>\n",
       "      <td>11</td>\n",
       "      <td>1107</td>\n",
       "      <td>69</td>\n",
       "      <td>1233</td>\n",
       "      <td>67</td>\n",
       "      <td>H</td>\n",
       "      <td>0</td>\n",
       "      <td>24</td>\n",
       "      <td>62</td>\n",
       "      <td>...</td>\n",
       "      <td>22</td>\n",
       "      <td>11</td>\n",
       "      <td>14</td>\n",
       "      <td>5</td>\n",
       "      <td>16</td>\n",
       "      <td>14</td>\n",
       "      <td>7</td>\n",
       "      <td>6</td>\n",
       "      <td>3</td>\n",
       "      <td>21</td>\n",
       "    </tr>\n",
       "    <tr>\n",
       "      <th>2</th>\n",
       "      <td>2018</td>\n",
       "      <td>11</td>\n",
       "      <td>1112</td>\n",
       "      <td>101</td>\n",
       "      <td>1319</td>\n",
       "      <td>67</td>\n",
       "      <td>H</td>\n",
       "      <td>0</td>\n",
       "      <td>34</td>\n",
       "      <td>57</td>\n",
       "      <td>...</td>\n",
       "      <td>13</td>\n",
       "      <td>17</td>\n",
       "      <td>30</td>\n",
       "      <td>9</td>\n",
       "      <td>10</td>\n",
       "      <td>11</td>\n",
       "      <td>11</td>\n",
       "      <td>3</td>\n",
       "      <td>1</td>\n",
       "      <td>24</td>\n",
       "    </tr>\n",
       "  </tbody>\n",
       "</table>\n",
       "<p>3 rows × 34 columns</p>\n",
       "</div>"
      ],
      "text/plain": [
       "   Season  DayNum  WTeamID  WScore  LTeamID  LScore WLoc  NumOT  WFGM  WFGA  \\\n",
       "0    2018      11     1104      82     1272      70    N      0    26    57   \n",
       "1    2018      11     1107      69     1233      67    H      0    24    62   \n",
       "2    2018      11     1112     101     1319      67    H      0    34    57   \n",
       "\n",
       "  ...   LFGA3  LFTM  LFTA  LOR  LDR  LAst  LTO  LStl  LBlk  LPF  \n",
       "0 ...      17    22    36   15   22     7   17     7     3   22  \n",
       "1 ...      22    11    14    5   16    14    7     6     3   21  \n",
       "2 ...      13    17    30    9   10    11   11     3     1   24  \n",
       "\n",
       "[3 rows x 34 columns]"
      ]
     },
     "execution_count": 3,
     "metadata": {},
     "output_type": "execute_result"
    }
   ],
   "source": [
    "rs = pd.read_csv(\"test/RegularSeasonDetailedResults_only2018.csv\")\n",
    "rs.head(3)"
   ]
  },
  {
   "cell_type": "code",
   "execution_count": 4,
   "metadata": {
    "_cell_guid": "79c7e3d0-c299-4dcb-8224-4455121ee9b0",
    "_uuid": "d629ff2d2480ee46fbb7e2d37f6b5fab8052498a"
   },
   "outputs": [
    {
     "data": {
      "text/plain": [
       "351"
      ]
     },
     "execution_count": 4,
     "metadata": {},
     "output_type": "execute_result"
    }
   ],
   "source": [
    "team_ids = set(rs.WTeamID).union(set(rs.LTeamID))\n",
    "len(team_ids)"
   ]
  },
  {
   "cell_type": "markdown",
   "metadata": {
    "_uuid": "6d6e1ed68d69864008965d9ecf3147d3d25114f4"
   },
   "source": [
    "I'm going to initialise all teams with a rating of 1500. There are two differences here with the 538 approach:\n",
    "\n",
    "- New entrants (when and where there are any) will start at the average 1500 Elo rather than a lower rating probably more appropriate for a new team.\n",
    "- There is no reversion to the mean between seasons. Each team's Elo starts exactly where it left off the previous season.  My justification here is that we only care about the end-of-season rating in terms of making predictions on the NCAA tournament, so even if ratings are a little off at first, they have the entire regular season to converge to something more appropriate."
   ]
  },
  {
   "cell_type": "code",
   "execution_count": 5,
   "metadata": {
    "_uuid": "e316f655d5bd8fcb84eb622a2667b0cae76bda96",
    "collapsed": true
   },
   "outputs": [],
   "source": [
    "# This dictionary will be used as a lookup for current\n",
    "# scores while the algorithm is iterating through each game\n",
    "elo_dict = dict(zip(list(team_ids), [1500] * len(team_ids)))"
   ]
  },
  {
   "cell_type": "code",
   "execution_count": 6,
   "metadata": {
    "_uuid": "84567d8553ed82965341d72d0e01ac12ca137c51",
    "collapsed": true
   },
   "outputs": [],
   "source": [
    "# New columns to help us iteratively update elos\n",
    "rs['margin'] = rs.WScore - rs.LScore\n",
    "rs['w_elo'] = None\n",
    "rs['l_elo'] = None"
   ]
  },
  {
   "cell_type": "markdown",
   "metadata": {
    "_uuid": "dd6b4d47736fec9148bc794c30d0737e1be39b14"
   },
   "source": [
    "The three functions below contain the meat of the Elo calculation:"
   ]
  },
  {
   "cell_type": "code",
   "execution_count": 7,
   "metadata": {
    "_uuid": "9229513a2b8f2ad19dc1d86b283464156dd5885c",
    "collapsed": true
   },
   "outputs": [],
   "source": [
    "def elo_pred(elo1, elo2):\n",
    "    return(1. / (10. ** (-(elo1 - elo2) / 400.) + 1.))\n",
    "\n",
    "def expected_margin(elo_diff):\n",
    "    return((7.5 + 0.006 * elo_diff))\n",
    "\n",
    "def elo_update(w_elo, l_elo, margin):\n",
    "    elo_diff = w_elo - l_elo\n",
    "    pred = elo_pred(w_elo, l_elo)\n",
    "    mult = ((margin + 3.) ** 0.8) / expected_margin(elo_diff)\n",
    "    update = K * mult * (1 - pred)\n",
    "    return(pred, update)"
   ]
  },
  {
   "cell_type": "code",
   "execution_count": 8,
   "metadata": {
    "_uuid": "1b0be9e3a6b1c2088f9fba47374c3e048a769c9c",
    "collapsed": true
   },
   "outputs": [],
   "source": [
    "# I'm going to iterate over the games dataframe using \n",
    "# index numbers, so want to check that nothing is out\n",
    "# of order before I do that.\n",
    "assert np.all(rs.index.values == np.array(range(rs.shape[0]))), \"Index is out of order.\""
   ]
  },
  {
   "cell_type": "code",
   "execution_count": 9,
   "metadata": {
    "_uuid": "6dc313ab673685e099b4e9fc644406144de1f650",
    "collapsed": true
   },
   "outputs": [],
   "source": [
    "preds = []\n",
    "\n",
    "# Loop over all rows of the games dataframe\n",
    "for i in range(rs.shape[0]):\n",
    "    \n",
    "    # Get key data from current row\n",
    "    w = rs.at[i, 'WTeamID']\n",
    "    l = rs.at[i, 'LTeamID']\n",
    "    margin = rs.at[i, 'margin']\n",
    "    wloc = rs.at[i, 'WLoc']\n",
    "    \n",
    "    # Does either team get a home-court advantage?\n",
    "    w_ad, l_ad, = 0., 0.\n",
    "    if wloc == \"H\":\n",
    "        w_ad += HOME_ADVANTAGE\n",
    "    elif wloc == \"A\":\n",
    "        l_ad += HOME_ADVANTAGE\n",
    "    \n",
    "    # Get elo updates as a result of the game\n",
    "    pred, update = elo_update(elo_dict[w] + w_ad,\n",
    "                              elo_dict[l] + l_ad, \n",
    "                              margin)\n",
    "    elo_dict[w] += update\n",
    "    elo_dict[l] -= update\n",
    "    preds.append(pred)\n",
    "\n",
    "    # Stores new elos in the games dataframe\n",
    "    rs.loc[i, 'w_elo'] = elo_dict[w]\n",
    "    rs.loc[i, 'l_elo'] = elo_dict[l]"
   ]
  },
  {
   "cell_type": "markdown",
   "metadata": {
    "_uuid": "ffde6b94d11b1c31d57ce75f702ae2ab6e13f5a0"
   },
   "source": [
    "Let's take a look at the last few games in the games dataframe to check that the Elo ratings look reasonable."
   ]
  },
  {
   "cell_type": "code",
   "execution_count": 10,
   "metadata": {
    "_uuid": "f8e6c8e93b2e174a4bf500a0316a77276e7cb632",
    "collapsed": true
   },
   "outputs": [
    {
     "data": {
      "text/html": [
       "<div>\n",
       "<style>\n",
       "    .dataframe thead tr:only-child th {\n",
       "        text-align: right;\n",
       "    }\n",
       "\n",
       "    .dataframe thead th {\n",
       "        text-align: left;\n",
       "    }\n",
       "\n",
       "    .dataframe tbody tr th {\n",
       "        vertical-align: top;\n",
       "    }\n",
       "</style>\n",
       "<table border=\"1\" class=\"dataframe\">\n",
       "  <thead>\n",
       "    <tr style=\"text-align: right;\">\n",
       "      <th></th>\n",
       "      <th>Season</th>\n",
       "      <th>DayNum</th>\n",
       "      <th>WTeamID</th>\n",
       "      <th>WScore</th>\n",
       "      <th>LTeamID</th>\n",
       "      <th>LScore</th>\n",
       "      <th>WLoc</th>\n",
       "      <th>NumOT</th>\n",
       "      <th>WFGM</th>\n",
       "      <th>WFGA</th>\n",
       "      <th>...</th>\n",
       "      <th>LOR</th>\n",
       "      <th>LDR</th>\n",
       "      <th>LAst</th>\n",
       "      <th>LTO</th>\n",
       "      <th>LStl</th>\n",
       "      <th>LBlk</th>\n",
       "      <th>LPF</th>\n",
       "      <th>margin</th>\n",
       "      <th>w_elo</th>\n",
       "      <th>l_elo</th>\n",
       "    </tr>\n",
       "  </thead>\n",
       "  <tbody>\n",
       "    <tr>\n",
       "      <th>4713</th>\n",
       "      <td>2018</td>\n",
       "      <td>115</td>\n",
       "      <td>1430</td>\n",
       "      <td>70</td>\n",
       "      <td>1167</td>\n",
       "      <td>47</td>\n",
       "      <td>A</td>\n",
       "      <td>0</td>\n",
       "      <td>24</td>\n",
       "      <td>46</td>\n",
       "      <td>...</td>\n",
       "      <td>9</td>\n",
       "      <td>15</td>\n",
       "      <td>10</td>\n",
       "      <td>13</td>\n",
       "      <td>9</td>\n",
       "      <td>1</td>\n",
       "      <td>17</td>\n",
       "      <td>23</td>\n",
       "      <td>1584.95</td>\n",
       "      <td>1435.04</td>\n",
       "    </tr>\n",
       "    <tr>\n",
       "      <th>4714</th>\n",
       "      <td>2018</td>\n",
       "      <td>115</td>\n",
       "      <td>1431</td>\n",
       "      <td>74</td>\n",
       "      <td>1256</td>\n",
       "      <td>72</td>\n",
       "      <td>H</td>\n",
       "      <td>0</td>\n",
       "      <td>29</td>\n",
       "      <td>55</td>\n",
       "      <td>...</td>\n",
       "      <td>6</td>\n",
       "      <td>16</td>\n",
       "      <td>16</td>\n",
       "      <td>11</td>\n",
       "      <td>6</td>\n",
       "      <td>2</td>\n",
       "      <td>15</td>\n",
       "      <td>2</td>\n",
       "      <td>1400.16</td>\n",
       "      <td>1505.37</td>\n",
       "    </tr>\n",
       "    <tr>\n",
       "      <th>4715</th>\n",
       "      <td>2018</td>\n",
       "      <td>115</td>\n",
       "      <td>1442</td>\n",
       "      <td>82</td>\n",
       "      <td>1295</td>\n",
       "      <td>74</td>\n",
       "      <td>H</td>\n",
       "      <td>0</td>\n",
       "      <td>24</td>\n",
       "      <td>52</td>\n",
       "      <td>...</td>\n",
       "      <td>4</td>\n",
       "      <td>26</td>\n",
       "      <td>10</td>\n",
       "      <td>13</td>\n",
       "      <td>2</td>\n",
       "      <td>3</td>\n",
       "      <td>29</td>\n",
       "      <td>8</td>\n",
       "      <td>1416.49</td>\n",
       "      <td>1466.7</td>\n",
       "    </tr>\n",
       "    <tr>\n",
       "      <th>4716</th>\n",
       "      <td>2018</td>\n",
       "      <td>115</td>\n",
       "      <td>1443</td>\n",
       "      <td>93</td>\n",
       "      <td>1150</td>\n",
       "      <td>55</td>\n",
       "      <td>H</td>\n",
       "      <td>0</td>\n",
       "      <td>32</td>\n",
       "      <td>57</td>\n",
       "      <td>...</td>\n",
       "      <td>13</td>\n",
       "      <td>16</td>\n",
       "      <td>10</td>\n",
       "      <td>19</td>\n",
       "      <td>8</td>\n",
       "      <td>2</td>\n",
       "      <td>21</td>\n",
       "      <td>38</td>\n",
       "      <td>1622.34</td>\n",
       "      <td>1356.9</td>\n",
       "    </tr>\n",
       "    <tr>\n",
       "      <th>4717</th>\n",
       "      <td>2018</td>\n",
       "      <td>115</td>\n",
       "      <td>1447</td>\n",
       "      <td>64</td>\n",
       "      <td>1148</td>\n",
       "      <td>62</td>\n",
       "      <td>A</td>\n",
       "      <td>0</td>\n",
       "      <td>26</td>\n",
       "      <td>56</td>\n",
       "      <td>...</td>\n",
       "      <td>7</td>\n",
       "      <td>15</td>\n",
       "      <td>11</td>\n",
       "      <td>13</td>\n",
       "      <td>6</td>\n",
       "      <td>4</td>\n",
       "      <td>12</td>\n",
       "      <td>2</td>\n",
       "      <td>1603.59</td>\n",
       "      <td>1433.32</td>\n",
       "    </tr>\n",
       "    <tr>\n",
       "      <th>4718</th>\n",
       "      <td>2018</td>\n",
       "      <td>115</td>\n",
       "      <td>1450</td>\n",
       "      <td>78</td>\n",
       "      <td>1143</td>\n",
       "      <td>76</td>\n",
       "      <td>A</td>\n",
       "      <td>0</td>\n",
       "      <td>28</td>\n",
       "      <td>56</td>\n",
       "      <td>...</td>\n",
       "      <td>8</td>\n",
       "      <td>24</td>\n",
       "      <td>17</td>\n",
       "      <td>12</td>\n",
       "      <td>2</td>\n",
       "      <td>3</td>\n",
       "      <td>16</td>\n",
       "      <td>2</td>\n",
       "      <td>1428.62</td>\n",
       "      <td>1372.44</td>\n",
       "    </tr>\n",
       "    <tr>\n",
       "      <th>4719</th>\n",
       "      <td>2018</td>\n",
       "      <td>115</td>\n",
       "      <td>1453</td>\n",
       "      <td>96</td>\n",
       "      <td>1324</td>\n",
       "      <td>90</td>\n",
       "      <td>A</td>\n",
       "      <td>0</td>\n",
       "      <td>32</td>\n",
       "      <td>56</td>\n",
       "      <td>...</td>\n",
       "      <td>14</td>\n",
       "      <td>23</td>\n",
       "      <td>15</td>\n",
       "      <td>9</td>\n",
       "      <td>6</td>\n",
       "      <td>2</td>\n",
       "      <td>17</td>\n",
       "      <td>6</td>\n",
       "      <td>1415.43</td>\n",
       "      <td>1525.43</td>\n",
       "    </tr>\n",
       "    <tr>\n",
       "      <th>4720</th>\n",
       "      <td>2018</td>\n",
       "      <td>115</td>\n",
       "      <td>1454</td>\n",
       "      <td>72</td>\n",
       "      <td>1178</td>\n",
       "      <td>49</td>\n",
       "      <td>A</td>\n",
       "      <td>0</td>\n",
       "      <td>27</td>\n",
       "      <td>58</td>\n",
       "      <td>...</td>\n",
       "      <td>10</td>\n",
       "      <td>22</td>\n",
       "      <td>6</td>\n",
       "      <td>8</td>\n",
       "      <td>3</td>\n",
       "      <td>4</td>\n",
       "      <td>12</td>\n",
       "      <td>23</td>\n",
       "      <td>1479.78</td>\n",
       "      <td>1357.46</td>\n",
       "    </tr>\n",
       "    <tr>\n",
       "      <th>4721</th>\n",
       "      <td>2018</td>\n",
       "      <td>115</td>\n",
       "      <td>1456</td>\n",
       "      <td>96</td>\n",
       "      <td>1423</td>\n",
       "      <td>83</td>\n",
       "      <td>H</td>\n",
       "      <td>0</td>\n",
       "      <td>30</td>\n",
       "      <td>56</td>\n",
       "      <td>...</td>\n",
       "      <td>15</td>\n",
       "      <td>21</td>\n",
       "      <td>19</td>\n",
       "      <td>13</td>\n",
       "      <td>5</td>\n",
       "      <td>3</td>\n",
       "      <td>19</td>\n",
       "      <td>13</td>\n",
       "      <td>1508.5</td>\n",
       "      <td>1418.16</td>\n",
       "    </tr>\n",
       "    <tr>\n",
       "      <th>4722</th>\n",
       "      <td>2018</td>\n",
       "      <td>115</td>\n",
       "      <td>1458</td>\n",
       "      <td>70</td>\n",
       "      <td>1321</td>\n",
       "      <td>64</td>\n",
       "      <td>A</td>\n",
       "      <td>0</td>\n",
       "      <td>24</td>\n",
       "      <td>45</td>\n",
       "      <td>...</td>\n",
       "      <td>8</td>\n",
       "      <td>17</td>\n",
       "      <td>10</td>\n",
       "      <td>12</td>\n",
       "      <td>3</td>\n",
       "      <td>0</td>\n",
       "      <td>20</td>\n",
       "      <td>6</td>\n",
       "      <td>1499.73</td>\n",
       "      <td>1502.13</td>\n",
       "    </tr>\n",
       "  </tbody>\n",
       "</table>\n",
       "<p>10 rows × 37 columns</p>\n",
       "</div>"
      ],
      "text/plain": [
       "      Season  DayNum  WTeamID  WScore  LTeamID  LScore WLoc  NumOT  WFGM  \\\n",
       "4713    2018     115     1430      70     1167      47    A      0    24   \n",
       "4714    2018     115     1431      74     1256      72    H      0    29   \n",
       "4715    2018     115     1442      82     1295      74    H      0    24   \n",
       "4716    2018     115     1443      93     1150      55    H      0    32   \n",
       "4717    2018     115     1447      64     1148      62    A      0    26   \n",
       "4718    2018     115     1450      78     1143      76    A      0    28   \n",
       "4719    2018     115     1453      96     1324      90    A      0    32   \n",
       "4720    2018     115     1454      72     1178      49    A      0    27   \n",
       "4721    2018     115     1456      96     1423      83    H      0    30   \n",
       "4722    2018     115     1458      70     1321      64    A      0    24   \n",
       "\n",
       "      WFGA   ...     LOR  LDR  LAst  LTO  LStl  LBlk  LPF  margin    w_elo  \\\n",
       "4713    46   ...       9   15    10   13     9     1   17      23  1584.95   \n",
       "4714    55   ...       6   16    16   11     6     2   15       2  1400.16   \n",
       "4715    52   ...       4   26    10   13     2     3   29       8  1416.49   \n",
       "4716    57   ...      13   16    10   19     8     2   21      38  1622.34   \n",
       "4717    56   ...       7   15    11   13     6     4   12       2  1603.59   \n",
       "4718    56   ...       8   24    17   12     2     3   16       2  1428.62   \n",
       "4719    56   ...      14   23    15    9     6     2   17       6  1415.43   \n",
       "4720    58   ...      10   22     6    8     3     4   12      23  1479.78   \n",
       "4721    56   ...      15   21    19   13     5     3   19      13   1508.5   \n",
       "4722    45   ...       8   17    10   12     3     0   20       6  1499.73   \n",
       "\n",
       "        l_elo  \n",
       "4713  1435.04  \n",
       "4714  1505.37  \n",
       "4715   1466.7  \n",
       "4716   1356.9  \n",
       "4717  1433.32  \n",
       "4718  1372.44  \n",
       "4719  1525.43  \n",
       "4720  1357.46  \n",
       "4721  1418.16  \n",
       "4722  1502.13  \n",
       "\n",
       "[10 rows x 37 columns]"
      ]
     },
     "execution_count": 10,
     "metadata": {},
     "output_type": "execute_result"
    }
   ],
   "source": [
    "rs.tail(10)"
   ]
  },
  {
   "cell_type": "markdown",
   "metadata": {
    "_uuid": "19b1ad5f2fcb6aaab4696a2f30ee153a3e5a3c5d"
   },
   "source": [
    "Looks OK. How well do they generally predict games? Since all of the Elo predictions calculated above have a true outcome of 1, it's really simple to check what the log loss would be on these 150k games:"
   ]
  },
  {
   "cell_type": "code",
   "execution_count": 11,
   "metadata": {
    "_uuid": "7a14c87120bedaa3c5b2821a7aa78aa0a90d1f92"
   },
   "outputs": [
    {
     "data": {
      "text/plain": [
       "0.57868575172327097"
      ]
     },
     "execution_count": 11,
     "metadata": {},
     "output_type": "execute_result"
    }
   ],
   "source": [
    "np.mean(-np.log(preds))"
   ]
  },
  {
   "cell_type": "markdown",
   "metadata": {
    "_uuid": "9a860e1ee7ed19952b233d20df1c0c90532b5c73"
   },
   "source": [
    "(This is a pretty rough measure, because this is looking only at regular-season games, which is not really what we're ultimately interested in predicting.)"
   ]
  },
  {
   "cell_type": "markdown",
   "metadata": {
    "_uuid": "9f5a83e7e4b9acb851edcf920b7f0e7e1bd0660a"
   },
   "source": [
    "Final step: for each team, pull out the final Elo rating at the end of each regular season. This is a bit annoying because the team ID could be in either the winner or loser column for their last game of the season.."
   ]
  },
  {
   "cell_type": "code",
   "execution_count": 12,
   "metadata": {
    "_uuid": "cf1b88c6ab502c35888890e472d7fe065b595296",
    "collapsed": true
   },
   "outputs": [],
   "source": [
    "def final_elo_per_season(df, team_id):\n",
    "    d = df.copy()\n",
    "    d = d.loc[(d.WTeamID == team_id) | (d.LTeamID == team_id), :]\n",
    "    d.sort_values(['Season', 'DayNum'], inplace=True)\n",
    "    d.drop_duplicates(['Season'], keep='last', inplace=True)\n",
    "    w_mask = d.WTeamID == team_id\n",
    "    l_mask = d.LTeamID == team_id\n",
    "    d['season_elo'] = None\n",
    "    d.loc[w_mask, 'season_elo'] = d.loc[w_mask, 'w_elo']\n",
    "    d.loc[l_mask, 'season_elo'] = d.loc[l_mask, 'l_elo']\n",
    "    out = pd.DataFrame({\n",
    "        'team_id': team_id,\n",
    "        'season': d.Season,\n",
    "        'season_elo': d.season_elo\n",
    "    })\n",
    "    return(out)"
   ]
  },
  {
   "cell_type": "code",
   "execution_count": 13,
   "metadata": {
    "_uuid": "c1041e407f3d3853f0a17d0b4efd93d4df2dde94",
    "collapsed": true
   },
   "outputs": [],
   "source": [
    "df_list = [final_elo_per_season(rs, i) for i in team_ids]\n",
    "season_elos = pd.concat(df_list)"
   ]
  },
  {
   "cell_type": "code",
   "execution_count": 14,
   "metadata": {
    "_uuid": "011e9cccd061a66aae33ea5d51b96677c74ee05d"
   },
   "outputs": [
    {
     "data": {
      "text/html": [
       "<div>\n",
       "<style>\n",
       "    .dataframe thead tr:only-child th {\n",
       "        text-align: right;\n",
       "    }\n",
       "\n",
       "    .dataframe thead th {\n",
       "        text-align: left;\n",
       "    }\n",
       "\n",
       "    .dataframe tbody tr th {\n",
       "        vertical-align: top;\n",
       "    }\n",
       "</style>\n",
       "<table border=\"1\" class=\"dataframe\">\n",
       "  <thead>\n",
       "    <tr style=\"text-align: right;\">\n",
       "      <th></th>\n",
       "      <th>season</th>\n",
       "      <th>season_elo</th>\n",
       "      <th>team_id</th>\n",
       "    </tr>\n",
       "  </thead>\n",
       "  <tbody>\n",
       "    <tr>\n",
       "      <th>4631</th>\n",
       "      <td>2018</td>\n",
       "      <td>1568.61</td>\n",
       "      <td>1393</td>\n",
       "    </tr>\n",
       "    <tr>\n",
       "      <th>4704</th>\n",
       "      <td>2018</td>\n",
       "      <td>1521.06</td>\n",
       "      <td>1449</td>\n",
       "    </tr>\n",
       "    <tr>\n",
       "      <th>4700</th>\n",
       "      <td>2018</td>\n",
       "      <td>1436.24</td>\n",
       "      <td>1357</td>\n",
       "    </tr>\n",
       "    <tr>\n",
       "      <th>4634</th>\n",
       "      <td>2018</td>\n",
       "      <td>1478.56</td>\n",
       "      <td>1309</td>\n",
       "    </tr>\n",
       "    <tr>\n",
       "      <th>4616</th>\n",
       "      <td>2018</td>\n",
       "      <td>1444.5</td>\n",
       "      <td>1206</td>\n",
       "    </tr>\n",
       "    <tr>\n",
       "      <th>4621</th>\n",
       "      <td>2018</td>\n",
       "      <td>1584.85</td>\n",
       "      <td>1243</td>\n",
       "    </tr>\n",
       "    <tr>\n",
       "      <th>4543</th>\n",
       "      <td>2018</td>\n",
       "      <td>1481.62</td>\n",
       "      <td>1219</td>\n",
       "    </tr>\n",
       "    <tr>\n",
       "      <th>4681</th>\n",
       "      <td>2018</td>\n",
       "      <td>1421.67</td>\n",
       "      <td>1365</td>\n",
       "    </tr>\n",
       "    <tr>\n",
       "      <th>4579</th>\n",
       "      <td>2018</td>\n",
       "      <td>1570.88</td>\n",
       "      <td>1460</td>\n",
       "    </tr>\n",
       "    <tr>\n",
       "      <th>4544</th>\n",
       "      <td>2018</td>\n",
       "      <td>1530.16</td>\n",
       "      <td>1396</td>\n",
       "    </tr>\n",
       "  </tbody>\n",
       "</table>\n",
       "</div>"
      ],
      "text/plain": [
       "      season season_elo  team_id\n",
       "4631    2018    1568.61     1393\n",
       "4704    2018    1521.06     1449\n",
       "4700    2018    1436.24     1357\n",
       "4634    2018    1478.56     1309\n",
       "4616    2018     1444.5     1206\n",
       "4621    2018    1584.85     1243\n",
       "4543    2018    1481.62     1219\n",
       "4681    2018    1421.67     1365\n",
       "4579    2018    1570.88     1460\n",
       "4544    2018    1530.16     1396"
      ]
     },
     "execution_count": 14,
     "metadata": {},
     "output_type": "execute_result"
    }
   ],
   "source": [
    "season_elos.sample(10)"
   ]
  },
  {
   "cell_type": "code",
   "execution_count": 15,
   "metadata": {
    "_uuid": "6dba55ba67983da94a4090196a71404f39d57541",
    "collapsed": true
   },
   "outputs": [],
   "source": [
    "season_elos.to_csv(\"2018_elos.csv\", index=None)"
   ]
  },
  {
   "cell_type": "code",
   "execution_count": null,
   "metadata": {},
   "outputs": [],
   "source": []
  },
  {
   "cell_type": "code",
   "execution_count": null,
   "metadata": {},
   "outputs": [],
   "source": []
  }
 ],
 "metadata": {
  "kernelspec": {
   "display_name": "Python 3",
   "language": "python",
   "name": "python3"
  },
  "language_info": {
   "codemirror_mode": {
    "name": "ipython",
    "version": 3
   },
   "file_extension": ".py",
   "mimetype": "text/x-python",
   "name": "python",
   "nbconvert_exporter": "python",
   "pygments_lexer": "ipython3",
   "version": "3.6.3"
  }
 },
 "nbformat": 4,
 "nbformat_minor": 2
}
