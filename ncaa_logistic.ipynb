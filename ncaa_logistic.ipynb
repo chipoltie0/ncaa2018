{
 "cells": [
  {
   "cell_type": "code",
   "execution_count": 1,
   "metadata": {},
   "outputs": [],
   "source": [
    "import pandas as pd\n",
    "import numpy as np\n",
    "from sklearn import preprocessing\n",
    "from sklearn.model_selection import train_test_split\n",
    "from sklearn.metrics import classification_report,confusion_matrix\n",
    "from sklearn.linear_model import LogisticRegression"
   ]
  },
  {
   "cell_type": "code",
   "execution_count": 2,
   "metadata": {},
   "outputs": [],
   "source": [
    "# get training data loaded in to build classifier\n",
    "df = pd.read_csv('final_bracket_train.csv')\n",
    "df.dropna(inplace=True)\n",
    "df.drop(['Season','MinTeam','MaxTeam'], axis = 1,inplace=True)"
   ]
  },
  {
   "cell_type": "code",
   "execution_count": 3,
   "metadata": {},
   "outputs": [
    {
     "data": {
      "text/plain": [
       "(968, 140)"
      ]
     },
     "execution_count": 3,
     "metadata": {},
     "output_type": "execute_result"
    }
   ],
   "source": [
    "y_all = df['MinWin']\n",
    "x_all = df.drop(['MinWin'], axis = 1)\n",
    "x_all.shape"
   ]
  },
  {
   "cell_type": "code",
   "execution_count": 4,
   "metadata": {},
   "outputs": [],
   "source": [
    "# fit scaler to use later\n",
    "scaler = preprocessing.StandardScaler().fit(x_all)\n",
    "x_scale = scaler.transform(x_all)"
   ]
  },
  {
   "cell_type": "code",
   "execution_count": 5,
   "metadata": {},
   "outputs": [],
   "source": [
    "# split up the data \n",
    "x_train, x_test, y_train, y_test = train_test_split(x_scale, y_all, test_size=0.33)"
   ]
  },
  {
   "cell_type": "code",
   "execution_count": 6,
   "metadata": {},
   "outputs": [
    {
     "data": {
      "text/plain": [
       "LogisticRegression(C=1.0, class_weight=None, dual=False, fit_intercept=True,\n",
       "          intercept_scaling=1, max_iter=100, multi_class='ovr', n_jobs=1,\n",
       "          penalty='l2', random_state=None, solver='liblinear', tol=0.0001,\n",
       "          verbose=0, warm_start=False)"
      ]
     },
     "execution_count": 6,
     "metadata": {},
     "output_type": "execute_result"
    }
   ],
   "source": [
    "clf = LogisticRegression()\n",
    "clf.fit(x_train,y_train)"
   ]
  },
  {
   "cell_type": "code",
   "execution_count": 7,
   "metadata": {},
   "outputs": [
    {
     "data": {
      "text/plain": [
       "0.74687499999999996"
      ]
     },
     "execution_count": 7,
     "metadata": {},
     "output_type": "execute_result"
    }
   ],
   "source": [
    "clf.score(x_test,y_test)"
   ]
  },
  {
   "cell_type": "code",
   "execution_count": 8,
   "metadata": {},
   "outputs": [
    {
     "name": "stdout",
     "output_type": "stream",
     "text": [
      "[[124  36]\n",
      " [ 45 115]]\n"
     ]
    }
   ],
   "source": [
    "print(confusion_matrix(y_test,clf.predict(x_test)))"
   ]
  },
  {
   "cell_type": "code",
   "execution_count": 9,
   "metadata": {},
   "outputs": [
    {
     "name": "stdout",
     "output_type": "stream",
     "text": [
      "             precision    recall  f1-score   support\n",
      "\n",
      "          0       0.73      0.78      0.75       160\n",
      "          1       0.76      0.72      0.74       160\n",
      "\n",
      "avg / total       0.75      0.75      0.75       320\n",
      "\n"
     ]
    }
   ],
   "source": [
    "print(classification_report(y_test,clf.predict(x_test)))"
   ]
  },
  {
   "cell_type": "code",
   "execution_count": 12,
   "metadata": {},
   "outputs": [
    {
     "data": {
      "text/html": [
       "<div>\n",
       "<style>\n",
       "    .dataframe thead tr:only-child th {\n",
       "        text-align: right;\n",
       "    }\n",
       "\n",
       "    .dataframe thead th {\n",
       "        text-align: left;\n",
       "    }\n",
       "\n",
       "    .dataframe tbody tr th {\n",
       "        vertical-align: top;\n",
       "    }\n",
       "</style>\n",
       "<table border=\"1\" class=\"dataframe\">\n",
       "  <thead>\n",
       "    <tr style=\"text-align: right;\">\n",
       "      <th></th>\n",
       "      <th>MinTeam</th>\n",
       "      <th>MaxTeam</th>\n",
       "    </tr>\n",
       "  </thead>\n",
       "  <tbody>\n",
       "    <tr>\n",
       "      <th>0</th>\n",
       "      <td>1104</td>\n",
       "      <td>1112</td>\n",
       "    </tr>\n",
       "    <tr>\n",
       "      <th>1</th>\n",
       "      <td>1104</td>\n",
       "      <td>1438</td>\n",
       "    </tr>\n",
       "    <tr>\n",
       "      <th>2</th>\n",
       "      <td>1112</td>\n",
       "      <td>1438</td>\n",
       "    </tr>\n",
       "    <tr>\n",
       "      <th>3</th>\n",
       "      <td>1113</td>\n",
       "      <td>1438</td>\n",
       "    </tr>\n",
       "    <tr>\n",
       "      <th>4</th>\n",
       "      <td>1116</td>\n",
       "      <td>1438</td>\n",
       "    </tr>\n",
       "  </tbody>\n",
       "</table>\n",
       "</div>"
      ],
      "text/plain": [
       "   MinTeam  MaxTeam\n",
       "0     1104     1112\n",
       "1     1104     1438\n",
       "2     1112     1438\n",
       "3     1113     1438\n",
       "4     1116     1438"
      ]
     },
     "execution_count": 12,
     "metadata": {},
     "output_type": "execute_result"
    }
   ],
   "source": [
    "output = pd.read_csv('final_bracket_predict.csv')\n",
    "out_teams = output[['MinTeam','MaxTeam']]\n",
    "output.drop(['Season','MinTeam','MaxTeam','MinWin'],axis=1, inplace=True)\n",
    "out_teams.head()"
   ]
  },
  {
   "cell_type": "code",
   "execution_count": 13,
   "metadata": {},
   "outputs": [
    {
     "data": {
      "text/html": [
       "<div>\n",
       "<style>\n",
       "    .dataframe thead tr:only-child th {\n",
       "        text-align: right;\n",
       "    }\n",
       "\n",
       "    .dataframe thead th {\n",
       "        text-align: left;\n",
       "    }\n",
       "\n",
       "    .dataframe tbody tr th {\n",
       "        vertical-align: top;\n",
       "    }\n",
       "</style>\n",
       "<table border=\"1\" class=\"dataframe\">\n",
       "  <thead>\n",
       "    <tr style=\"text-align: right;\">\n",
       "      <th></th>\n",
       "      <th>min.g1.OffRtg</th>\n",
       "      <th>min.g1.DefRtg</th>\n",
       "      <th>min.g1.NetRtg</th>\n",
       "      <th>min.g1.AstR</th>\n",
       "      <th>min.g1.TOR</th>\n",
       "      <th>min.g1.TSP</th>\n",
       "      <th>min.g1.eFGP</th>\n",
       "      <th>min.g1.FTAR</th>\n",
       "      <th>min.g1.ORP</th>\n",
       "      <th>min.g1.DRP</th>\n",
       "      <th>...</th>\n",
       "      <th>pom.min.NCSOS_AdjEM</th>\n",
       "      <th>pom.max.AdjEM</th>\n",
       "      <th>pom.max.AdjO</th>\n",
       "      <th>pom.max.AdjD</th>\n",
       "      <th>pom.max.AdjT</th>\n",
       "      <th>pom.max.Luck</th>\n",
       "      <th>pom.max.SOS_AdjEM</th>\n",
       "      <th>pom.max.SOS_OppO</th>\n",
       "      <th>pom.max.SOS_OppD</th>\n",
       "      <th>pom.max.NCSOS_AdjEM</th>\n",
       "    </tr>\n",
       "  </thead>\n",
       "  <tbody>\n",
       "    <tr>\n",
       "      <th>0</th>\n",
       "      <td>99.193044</td>\n",
       "      <td>125.737661</td>\n",
       "      <td>-26.544617</td>\n",
       "      <td>15.105740</td>\n",
       "      <td>18.342685</td>\n",
       "      <td>57.555123</td>\n",
       "      <td>0.548077</td>\n",
       "      <td>0.423077</td>\n",
       "      <td>0.206897</td>\n",
       "      <td>0.707317</td>\n",
       "      <td>...</td>\n",
       "      <td>3.02</td>\n",
       "      <td>19.37</td>\n",
       "      <td>119.0</td>\n",
       "      <td>99.6</td>\n",
       "      <td>67.3</td>\n",
       "      <td>0.025</td>\n",
       "      <td>6.33</td>\n",
       "      <td>108.9</td>\n",
       "      <td>102.6</td>\n",
       "      <td>2.82</td>\n",
       "    </tr>\n",
       "    <tr>\n",
       "      <th>1</th>\n",
       "      <td>99.193044</td>\n",
       "      <td>125.737661</td>\n",
       "      <td>-26.544617</td>\n",
       "      <td>15.105740</td>\n",
       "      <td>18.342685</td>\n",
       "      <td>57.555123</td>\n",
       "      <td>0.548077</td>\n",
       "      <td>0.423077</td>\n",
       "      <td>0.206897</td>\n",
       "      <td>0.707317</td>\n",
       "      <td>...</td>\n",
       "      <td>3.02</td>\n",
       "      <td>32.15</td>\n",
       "      <td>116.5</td>\n",
       "      <td>84.4</td>\n",
       "      <td>59.2</td>\n",
       "      <td>0.032</td>\n",
       "      <td>9.99</td>\n",
       "      <td>110.9</td>\n",
       "      <td>100.9</td>\n",
       "      <td>0.22</td>\n",
       "    </tr>\n",
       "    <tr>\n",
       "      <th>2</th>\n",
       "      <td>111.575264</td>\n",
       "      <td>96.698562</td>\n",
       "      <td>14.876702</td>\n",
       "      <td>12.146643</td>\n",
       "      <td>14.355124</td>\n",
       "      <td>56.340144</td>\n",
       "      <td>0.526786</td>\n",
       "      <td>0.428571</td>\n",
       "      <td>0.366667</td>\n",
       "      <td>0.766667</td>\n",
       "      <td>...</td>\n",
       "      <td>2.82</td>\n",
       "      <td>32.15</td>\n",
       "      <td>116.5</td>\n",
       "      <td>84.4</td>\n",
       "      <td>59.2</td>\n",
       "      <td>0.032</td>\n",
       "      <td>9.99</td>\n",
       "      <td>110.9</td>\n",
       "      <td>100.9</td>\n",
       "      <td>0.22</td>\n",
       "    </tr>\n",
       "    <tr>\n",
       "      <th>3</th>\n",
       "      <td>101.889145</td>\n",
       "      <td>112.377733</td>\n",
       "      <td>-10.488588</td>\n",
       "      <td>13.107722</td>\n",
       "      <td>9.532888</td>\n",
       "      <td>52.372150</td>\n",
       "      <td>0.456140</td>\n",
       "      <td>0.315789</td>\n",
       "      <td>0.166667</td>\n",
       "      <td>0.735294</td>\n",
       "      <td>...</td>\n",
       "      <td>1.53</td>\n",
       "      <td>32.15</td>\n",
       "      <td>116.5</td>\n",
       "      <td>84.4</td>\n",
       "      <td>59.2</td>\n",
       "      <td>0.032</td>\n",
       "      <td>9.99</td>\n",
       "      <td>110.9</td>\n",
       "      <td>100.9</td>\n",
       "      <td>0.22</td>\n",
       "    </tr>\n",
       "    <tr>\n",
       "      <th>4</th>\n",
       "      <td>108.131488</td>\n",
       "      <td>130.658881</td>\n",
       "      <td>-22.527393</td>\n",
       "      <td>14.906303</td>\n",
       "      <td>9.582624</td>\n",
       "      <td>50.761421</td>\n",
       "      <td>0.468254</td>\n",
       "      <td>0.285714</td>\n",
       "      <td>0.277778</td>\n",
       "      <td>0.470588</td>\n",
       "      <td>...</td>\n",
       "      <td>1.30</td>\n",
       "      <td>32.15</td>\n",
       "      <td>116.5</td>\n",
       "      <td>84.4</td>\n",
       "      <td>59.2</td>\n",
       "      <td>0.032</td>\n",
       "      <td>9.99</td>\n",
       "      <td>110.9</td>\n",
       "      <td>100.9</td>\n",
       "      <td>0.22</td>\n",
       "    </tr>\n",
       "  </tbody>\n",
       "</table>\n",
       "<p>5 rows × 140 columns</p>\n",
       "</div>"
      ],
      "text/plain": [
       "   min.g1.OffRtg  min.g1.DefRtg  min.g1.NetRtg  min.g1.AstR  min.g1.TOR  \\\n",
       "0      99.193044     125.737661     -26.544617    15.105740   18.342685   \n",
       "1      99.193044     125.737661     -26.544617    15.105740   18.342685   \n",
       "2     111.575264      96.698562      14.876702    12.146643   14.355124   \n",
       "3     101.889145     112.377733     -10.488588    13.107722    9.532888   \n",
       "4     108.131488     130.658881     -22.527393    14.906303    9.582624   \n",
       "\n",
       "   min.g1.TSP  min.g1.eFGP  min.g1.FTAR  min.g1.ORP  min.g1.DRP  \\\n",
       "0   57.555123     0.548077     0.423077    0.206897    0.707317   \n",
       "1   57.555123     0.548077     0.423077    0.206897    0.707317   \n",
       "2   56.340144     0.526786     0.428571    0.366667    0.766667   \n",
       "3   52.372150     0.456140     0.315789    0.166667    0.735294   \n",
       "4   50.761421     0.468254     0.285714    0.277778    0.470588   \n",
       "\n",
       "          ...           pom.min.NCSOS_AdjEM  pom.max.AdjEM  pom.max.AdjO  \\\n",
       "0         ...                          3.02          19.37         119.0   \n",
       "1         ...                          3.02          32.15         116.5   \n",
       "2         ...                          2.82          32.15         116.5   \n",
       "3         ...                          1.53          32.15         116.5   \n",
       "4         ...                          1.30          32.15         116.5   \n",
       "\n",
       "   pom.max.AdjD  pom.max.AdjT  pom.max.Luck  pom.max.SOS_AdjEM  \\\n",
       "0          99.6          67.3         0.025               6.33   \n",
       "1          84.4          59.2         0.032               9.99   \n",
       "2          84.4          59.2         0.032               9.99   \n",
       "3          84.4          59.2         0.032               9.99   \n",
       "4          84.4          59.2         0.032               9.99   \n",
       "\n",
       "   pom.max.SOS_OppO  pom.max.SOS_OppD  pom.max.NCSOS_AdjEM  \n",
       "0             108.9             102.6                 2.82  \n",
       "1             110.9             100.9                 0.22  \n",
       "2             110.9             100.9                 0.22  \n",
       "3             110.9             100.9                 0.22  \n",
       "4             110.9             100.9                 0.22  \n",
       "\n",
       "[5 rows x 140 columns]"
      ]
     },
     "execution_count": 13,
     "metadata": {},
     "output_type": "execute_result"
    }
   ],
   "source": [
    "output.head()"
   ]
  },
  {
   "cell_type": "code",
   "execution_count": 14,
   "metadata": {},
   "outputs": [],
   "source": [
    "x_pred = scaler.transform(output)"
   ]
  },
  {
   "cell_type": "code",
   "execution_count": 15,
   "metadata": {},
   "outputs": [
    {
     "data": {
      "text/html": [
       "<div>\n",
       "<style>\n",
       "    .dataframe thead tr:only-child th {\n",
       "        text-align: right;\n",
       "    }\n",
       "\n",
       "    .dataframe thead th {\n",
       "        text-align: left;\n",
       "    }\n",
       "\n",
       "    .dataframe tbody tr th {\n",
       "        vertical-align: top;\n",
       "    }\n",
       "</style>\n",
       "<table border=\"1\" class=\"dataframe\">\n",
       "  <thead>\n",
       "    <tr style=\"text-align: right;\">\n",
       "      <th></th>\n",
       "      <th>MinWin</th>\n",
       "    </tr>\n",
       "  </thead>\n",
       "  <tbody>\n",
       "    <tr>\n",
       "      <th>0</th>\n",
       "      <td>0</td>\n",
       "    </tr>\n",
       "    <tr>\n",
       "      <th>1</th>\n",
       "      <td>0</td>\n",
       "    </tr>\n",
       "    <tr>\n",
       "      <th>2</th>\n",
       "      <td>0</td>\n",
       "    </tr>\n",
       "    <tr>\n",
       "      <th>3</th>\n",
       "      <td>0</td>\n",
       "    </tr>\n",
       "    <tr>\n",
       "      <th>4</th>\n",
       "      <td>0</td>\n",
       "    </tr>\n",
       "  </tbody>\n",
       "</table>\n",
       "</div>"
      ],
      "text/plain": [
       "   MinWin\n",
       "0       0\n",
       "1       0\n",
       "2       0\n",
       "3       0\n",
       "4       0"
      ]
     },
     "execution_count": 15,
     "metadata": {},
     "output_type": "execute_result"
    }
   ],
   "source": [
    "predictions = pd.DataFrame(clf.predict(x_pred),columns=['MinWin'])\n",
    "predictions.head()"
   ]
  },
  {
   "cell_type": "code",
   "execution_count": 16,
   "metadata": {},
   "outputs": [
    {
     "data": {
      "text/html": [
       "<div>\n",
       "<style>\n",
       "    .dataframe thead tr:only-child th {\n",
       "        text-align: right;\n",
       "    }\n",
       "\n",
       "    .dataframe thead th {\n",
       "        text-align: left;\n",
       "    }\n",
       "\n",
       "    .dataframe tbody tr th {\n",
       "        vertical-align: top;\n",
       "    }\n",
       "</style>\n",
       "<table border=\"1\" class=\"dataframe\">\n",
       "  <thead>\n",
       "    <tr style=\"text-align: right;\">\n",
       "      <th></th>\n",
       "      <th>MinTeam</th>\n",
       "      <th>MaxTeam</th>\n",
       "      <th>MinWin</th>\n",
       "    </tr>\n",
       "  </thead>\n",
       "  <tbody>\n",
       "    <tr>\n",
       "      <th>0</th>\n",
       "      <td>1104</td>\n",
       "      <td>1112</td>\n",
       "      <td>0</td>\n",
       "    </tr>\n",
       "    <tr>\n",
       "      <th>1</th>\n",
       "      <td>1104</td>\n",
       "      <td>1438</td>\n",
       "      <td>0</td>\n",
       "    </tr>\n",
       "    <tr>\n",
       "      <th>2</th>\n",
       "      <td>1112</td>\n",
       "      <td>1438</td>\n",
       "      <td>0</td>\n",
       "    </tr>\n",
       "    <tr>\n",
       "      <th>3</th>\n",
       "      <td>1113</td>\n",
       "      <td>1438</td>\n",
       "      <td>0</td>\n",
       "    </tr>\n",
       "    <tr>\n",
       "      <th>4</th>\n",
       "      <td>1116</td>\n",
       "      <td>1438</td>\n",
       "      <td>0</td>\n",
       "    </tr>\n",
       "  </tbody>\n",
       "</table>\n",
       "</div>"
      ],
      "text/plain": [
       "   MinTeam  MaxTeam  MinWin\n",
       "0     1104     1112       0\n",
       "1     1104     1438       0\n",
       "2     1112     1438       0\n",
       "3     1113     1438       0\n",
       "4     1116     1438       0"
      ]
     },
     "execution_count": 16,
     "metadata": {},
     "output_type": "execute_result"
    }
   ],
   "source": [
    "final_file = pd.concat([out_teams,predictions],axis=1)\n",
    "final_file.head()"
   ]
  },
  {
   "cell_type": "code",
   "execution_count": 17,
   "metadata": {},
   "outputs": [],
   "source": [
    "final_file.to_excel('logistic_predictions.xlsx')"
   ]
  },
  {
   "cell_type": "code",
   "execution_count": null,
   "metadata": {},
   "outputs": [],
   "source": []
  }
 ],
 "metadata": {
  "kernelspec": {
   "display_name": "Python 3",
   "language": "python",
   "name": "python3"
  },
  "language_info": {
   "codemirror_mode": {
    "name": "ipython",
    "version": 3
   },
   "file_extension": ".py",
   "mimetype": "text/x-python",
   "name": "python",
   "nbconvert_exporter": "python",
   "pygments_lexer": "ipython3",
   "version": "3.5.5"
  }
 },
 "nbformat": 4,
 "nbformat_minor": 2
}
